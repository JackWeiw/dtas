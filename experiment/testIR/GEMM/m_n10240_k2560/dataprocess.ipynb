{
 "cells": [
  {
   "cell_type": "code",
   "execution_count": 1,
   "metadata": {},
   "outputs": [],
   "source": [
    "import os\n",
    "import json\n",
    "import numpy as np"
   ]
  },
  {
   "cell_type": "code",
   "execution_count": 10,
   "metadata": {},
   "outputs": [
    {
     "name": "stdout",
     "output_type": "stream",
     "text": [
      "19\n",
      "i2j4_x7y2_in4\n",
      "i4j4_x3y2_in4\n",
      "i5j4_x2y2_in4\n",
      "i4j4_x2y3_in4\n",
      "i3j4_x3y3_in4\n",
      "i2j4_x4y3_in4\n",
      "i2j4_x3y4_in4\n",
      "i4j2_x2y2_in4_async\n",
      "i4j5_x2y2_in4\n",
      "i4j2_x4y3_in4\n",
      "i4j2_x3y4_in4\n",
      "i4j4_x2y2_in8\n",
      "i4j4_x3y2_in8\n",
      "i7j2_x4y2_in8\n",
      "i6j2_x4y2_in8\n",
      "i4j2_x7y2_in4\n",
      "i4j2_x5y2_in4\n",
      "i8j2_x3y2_in8\n",
      "i4j4_x2y2_in8\n",
      "[1830.911 1830.911 1832.96  1832.96  1831.936]\n"
     ]
    }
   ],
   "source": [
    "data16_dir=\"/home/weitao/XIAG8XX/profile/testIR/m_n10240_k2560/data/16x16x16\"\n",
    "data8_dir=\"/home/weitao/XIAG8XX/profile/testIR/m_n10240_k2560/data/8x32x16\"\n",
    "json_files = [os.path.join(data16_dir, f) for f in os.listdir(data16_dir) if f.endswith('.json')]\n",
    "json_files+= [os.path.join(data8_dir, f) for f in os.listdir(data8_dir) if f.endswith('.json')]\n",
    "print(len(json_files))\n",
    "\n",
    "time_values_by_file={}\n",
    "m=[i for i in range(1,4097)]\n",
    "for file_name in json_files:\n",
    "    with open(file_name, 'r') as file:\n",
    "        # 使用jsonlines库处理多对象文件\n",
    "        relative_speed = np.array([item[1] for item in json.load(file).items()])\n",
    "        desired_part = os.path.basename(file_name).split(\".\")[0]\n",
    "        print(desired_part)\n",
    "        time_values_by_file[desired_part]=relative_speed\n",
    "best={}\n",
    "for i in range(1,4097,256):\n",
    "    _min=100000\n",
    "    _min_key=\"\"\n",
    "    for key, value in time_values_by_file.items():\n",
    "        if np.mean(value[i:i+256]) < _min:\n",
    "            _mean=np.mean(value[i:i+256])\n",
    "            if _mean < _min:\n",
    "                _min = _mean \n",
    "            _min_key = key\n",
    "    best[i]=_min_key\n",
    "print(time_values_by_file[\"i2j4_x7y2_in4\"][4090:4095])"
   ]
  }
 ],
 "metadata": {
  "kernelspec": {
   "display_name": "pt",
   "language": "python",
   "name": "python3"
  },
  "language_info": {
   "codemirror_mode": {
    "name": "ipython",
    "version": 3
   },
   "file_extension": ".py",
   "mimetype": "text/x-python",
   "name": "python",
   "nbconvert_exporter": "python",
   "pygments_lexer": "ipython3",
   "version": "3.10.0"
  }
 },
 "nbformat": 4,
 "nbformat_minor": 2
}
